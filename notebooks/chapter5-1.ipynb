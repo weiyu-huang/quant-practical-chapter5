{
 "cells": [
  {
   "cell_type": "code",
   "execution_count": 2,
   "id": "initial_id",
   "metadata": {
    "collapsed": true,
    "ExecuteTime": {
     "end_time": "2024-01-15T03:46:49.808762Z",
     "start_time": "2024-01-15T03:46:48.797393Z"
    }
   },
   "outputs": [],
   "source": [
    "import pandas as pd\n",
    "import numpy as np\n",
    "import matplotlib.pyplot as plt\n",
    "from sklearn.preprocessing import StandardScaler\n",
    "from sklearn.linear_model import LogisticRegression\n",
    "from sklearn.ensemble import RandomForestClassifier\n",
    "import xgboost as xgb\n",
    "from sklearn.metrics import accuracy_score\n",
    "from sklearn.model_selection import GridSearchCV\n",
    "\n",
    "from db_util import DataBase\n",
    "from feature_extractor import FeatureExtractor\n",
    "from analysis_util import StockDirectionAnalyzer"
   ]
  },
  {
   "cell_type": "code",
   "outputs": [],
   "source": [
    "import importlib\n",
    "import db_util\n",
    "importlib.reload(db_util)\n",
    "from db_util import DataBase"
   ],
   "metadata": {
    "collapsed": false,
    "ExecuteTime": {
     "end_time": "2024-01-15T03:21:20.319996Z",
     "start_time": "2024-01-15T03:21:20.315155Z"
    }
   },
   "id": "9aa164a4672a8101",
   "execution_count": 3
  },
  {
   "cell_type": "code",
   "outputs": [
    {
     "name": "stderr",
     "output_type": "stream",
     "text": [
      "[*********************100%%**********************]  1 of 1 completed"
     ]
    },
    {
     "name": "stdout",
     "output_type": "stream",
     "text": [
      "(730, 8)\n"
     ]
    },
    {
     "name": "stderr",
     "output_type": "stream",
     "text": [
      "\n"
     ]
    }
   ],
   "source": [
    "db = DataBase(db_path='../data/project1.db')\n",
    "df = db.get_data(ticker='BTC-USD', period='2y', interval='1d')\n",
    "print(df.shape)"
   ],
   "metadata": {
    "collapsed": false,
    "ExecuteTime": {
     "end_time": "2024-01-15T03:46:53.001880Z",
     "start_time": "2024-01-15T03:46:52.597580Z"
    }
   },
   "id": "6bfd1738042bb7b7",
   "execution_count": 3
  },
  {
   "cell_type": "code",
   "outputs": [
    {
     "data": {
      "text/plain": "Index(['ticker', 'date', 'open', 'high', 'low', 'close', 'adj_close',\n       'volume'],\n      dtype='object')"
     },
     "execution_count": 4,
     "metadata": {},
     "output_type": "execute_result"
    }
   ],
   "source": [
    "df.columns"
   ],
   "metadata": {
    "collapsed": false,
    "ExecuteTime": {
     "end_time": "2024-01-15T03:48:00.511936Z",
     "start_time": "2024-01-15T03:48:00.505103Z"
    }
   },
   "id": "9f033f6772c22391",
   "execution_count": 4
  },
  {
   "cell_type": "markdown",
   "source": [],
   "metadata": {
    "collapsed": false
   },
   "id": "b9e5d7507336bf59"
  },
  {
   "cell_type": "code",
   "outputs": [],
   "source": [
    "fe = FeatureExtractor(df)\n",
    "df['adl'] = fe.accumulation_distribution_line()\n",
    "df['aroon_high'], df['aroon_low'], df['aroon_oscillator'] = fe.aroon()\n",
    "df['atr'] = fe.average_true_range()\n",
    "df['atr_p'] = fe.average_true_range_percentage()\n",
    "df['+di'], df['-di'], df['adx'] = fe.average_directional_index()\n",
    "df['bop'] = fe.balance_of_power()\n",
    "df['bb_upper'], df['bb_middle'], df['bb_lower'] = fe.bollinger_band()\n",
    "df['bb_bandwidth'] = fe.bollinger_bandwidth()\n",
    "df['bb_p'] = fe.bollinger_percentage()\n",
    "df['cp_close_1d'] = fe.change_percentage(lookback=1)\n",
    "df['cp_close_5d'] = fe.change_percentage(lookback=5)\n",
    "df['cd_close_1d'] = fe.change_direction(lookback=1)\n",
    "df['cd_close_5d'] = fe.change_direction(lookback=5)\n",
    "df['cmf'] = fe.chainkin_money_flow()\n",
    "df['co'] = fe.chainkin_oscillator()\n",
    "df['fi'] = fe.force_index()\n",
    "df['macd_line'], df['signal_line'], df['macd_histogram'] = fe.macd()\n",
    "df['so_k'], df['so_d'] = fe.stochastic_oscillator()"
   ],
   "metadata": {
    "collapsed": false,
    "ExecuteTime": {
     "end_time": "2024-01-15T03:48:02.138511Z",
     "start_time": "2024-01-15T03:48:02.087057Z"
    }
   },
   "id": "fc80c3c53a287964",
   "execution_count": 5
  },
  {
   "cell_type": "code",
   "outputs": [],
   "source": [
    "exclude_features = ['ticker', 'date', 'open', 'high', 'low', 'close', 'adj_close', 'volume']\n",
    "features = [c for c in df.columns if c not in exclude_features]\n",
    "X = df[features]\n",
    "y = df['close'].shift(-1) > df['close']"
   ],
   "metadata": {
    "collapsed": false,
    "ExecuteTime": {
     "end_time": "2024-01-15T03:48:04.704175Z",
     "start_time": "2024-01-15T03:48:04.702065Z"
    }
   },
   "id": "8a12988cd0d0b3ea",
   "execution_count": 6
  },
  {
   "cell_type": "code",
   "outputs": [
    {
     "name": "stdout",
     "output_type": "stream",
     "text": [
      "(555, 27) (150, 27) (555,) (150,)\n"
     ]
    }
   ],
   "source": [
    "EXCLUDE_FOR_TRAINING = 25\n",
    "RESERVE_FOR_TESTING = 150\n",
    "\n",
    "sc = StandardScaler()\n",
    "X_sc = sc.fit_transform(X[EXCLUDE_FOR_TRAINING:])\n",
    "X_train = X_sc[:-RESERVE_FOR_TESTING, :]\n",
    "y_train = y.iloc[EXCLUDE_FOR_TRAINING:-RESERVE_FOR_TESTING]\n",
    "X_test = X_sc[-RESERVE_FOR_TESTING:, :]\n",
    "y_test = y.iloc[-RESERVE_FOR_TESTING:]\n",
    "price_train = df['close'].values[EXCLUDE_FOR_TRAINING:-RESERVE_FOR_TESTING]\n",
    "price_test = df['close'].values[-RESERVE_FOR_TESTING:]\n",
    "\n",
    "print(X_train.shape, X_test.shape, y_train.shape, y_test.shape)"
   ],
   "metadata": {
    "collapsed": false,
    "ExecuteTime": {
     "end_time": "2024-01-15T03:48:09.475812Z",
     "start_time": "2024-01-15T03:48:09.469933Z"
    }
   },
   "id": "2554c7cc6c36f199",
   "execution_count": 7
  },
  {
   "cell_type": "code",
   "outputs": [
    {
     "name": "stdout",
     "output_type": "stream",
     "text": [
      "\n",
      "        Up correct: 56.00%;\n",
      "        Down correct: 59.70%;\n",
      "        Accuracy: 58.20%;\n",
      "        \n",
      "\n",
      "        Up correct: 57.89%;\n",
      "        Down correct: 51.79%;\n",
      "        Accuracy: 53.33%;\n",
      "        \n"
     ]
    },
    {
     "data": {
      "text/plain": "<Figure size 576x576 with 1 Axes>",
      "image/png": "[encoded data removed]"
     },
     "metadata": {
      "needs_background": "light"
     },
     "output_type": "display_data"
    },
    {
     "data": {
      "text/plain": "(57.89473684210527, 51.78571428571429, 53.333333333333336)"
     },
     "execution_count": 8,
     "metadata": {},
     "output_type": "execute_result"
    }
   ],
   "source": [
    "# Logistic Regression\n",
    "model = LogisticRegression(verbose=0, n_jobs=-1)\n",
    "model.fit(X_train, y_train)\n",
    "\n",
    "y_train_pred = model.predict(X_train)\n",
    "y_test_pred = model.predict(X_test)\n",
    "\n",
    "train_analyzer = StockDirectionAnalyzer(y_train, y_train_pred, price_train)\n",
    "train_analyzer.analyze(plot=False)\n",
    "test_analyzer = StockDirectionAnalyzer(y_test, y_test_pred, price_test)\n",
    "test_analyzer.analyze()"
   ],
   "metadata": {
    "collapsed": false,
    "ExecuteTime": {
     "end_time": "2024-01-15T03:48:14.136268Z",
     "start_time": "2024-01-15T03:48:13.429110Z"
    }
   },
   "id": "1d463e53bbcd5a69",
   "execution_count": 8
  },
  {
   "cell_type": "code",
   "outputs": [
    {
     "name": "stdout",
     "output_type": "stream",
     "text": [
      "\n",
      "        Up correct: 78.24%;\n",
      "        Down correct: 80.89%;\n",
      "        Accuracy: 79.64%;\n",
      "        \n",
      "\n",
      "        Up correct: 57.50%;\n",
      "        Down correct: 48.57%;\n",
      "        Accuracy: 53.33%;\n",
      "        \n"
     ]
    },
    {
     "name": "stderr",
     "output_type": "stream",
     "text": [
      "[Parallel(n_jobs=-1)]: Using backend ThreadingBackend with 10 concurrent workers.\n",
      "[Parallel(n_jobs=-1)]: Done   2 out of  10 | elapsed:    0.0s remaining:    0.0s\n",
      "[Parallel(n_jobs=-1)]: Done  10 out of  10 | elapsed:    0.0s finished\n",
      "[Parallel(n_jobs=10)]: Using backend ThreadingBackend with 10 concurrent workers.\n",
      "[Parallel(n_jobs=10)]: Done   2 out of  10 | elapsed:    0.0s remaining:    0.0s\n",
      "[Parallel(n_jobs=10)]: Done  10 out of  10 | elapsed:    0.0s finished\n",
      "[Parallel(n_jobs=10)]: Using backend ThreadingBackend with 10 concurrent workers.\n",
      "[Parallel(n_jobs=10)]: Done   2 out of  10 | elapsed:    0.0s remaining:    0.0s\n",
      "[Parallel(n_jobs=10)]: Done  10 out of  10 | elapsed:    0.0s finished\n"
     ]
    },
    {
     "data": {
      "text/plain": "<Figure size 576x576 with 1 Axes>",
      "image/png": "[encoded data removed]"
     },
     "metadata": {
      "needs_background": "light"
     },
     "output_type": "display_data"
    },
    {
     "data": {
      "text/plain": "(57.49999999999999, 48.57142857142857, 53.333333333333336)"
     },
     "execution_count": 17,
     "metadata": {},
     "output_type": "execute_result"
    }
   ],
   "source": [
    "# Random Forest\n",
    "model = RandomForestClassifier(\n",
    "    max_depth=10, min_samples_leaf=10, min_samples_split=5, n_estimators=10,\n",
    "    verbose=1, n_jobs=-1\n",
    ")\n",
    "model.fit(X_train, y_train)\n",
    "\n",
    "y_train_pred = model.predict(X_train)\n",
    "y_test_pred = model.predict(X_test)\n",
    "\n",
    "train_analyzer = StockDirectionAnalyzer(y_train, y_train_pred, price_train)\n",
    "train_analyzer.analyze(plot=False)\n",
    "test_analyzer = StockDirectionAnalyzer(y_test, y_test_pred, price_test)\n",
    "test_analyzer.analyze()"
   ],
   "metadata": {
    "collapsed": false,
    "ExecuteTime": {
     "end_time": "2024-01-15T03:25:43.427072Z",
     "start_time": "2024-01-15T03:25:43.357529Z"
    }
   },
   "id": "115a1bbcfce5313",
   "execution_count": 17
  },
  {
   "cell_type": "code",
   "outputs": [
    {
     "name": "stdout",
     "output_type": "stream",
     "text": [
      "Fitting 4 folds for each of 144 candidates, totalling 576 fits\n",
      "Best parameters:  {'max_depth': 10, 'min_samples_leaf': 10, 'min_samples_split': 5, 'n_estimators': 10}\n",
      "Best score:  0.5440777812532582\n"
     ]
    }
   ],
   "source": [
    "param_grid = {\n",
    "    'n_estimators': [10, 50, 100],\n",
    "    'max_depth': [None, 5, 10, 20],\n",
    "    'min_samples_split': [5, 10, 20, 30],\n",
    "    'min_samples_leaf': [5, 10, 15],\n",
    "}\n",
    "\n",
    "rf = RandomForestClassifier()\n",
    "grid_search = GridSearchCV(\n",
    "    estimator=rf, param_grid=param_grid, n_jobs=-1, verbose=1, cv=4\n",
    ")\n",
    "grid_search.fit(X_train, y_train)\n",
    "\n",
    "print(\"Best parameters: \", grid_search.best_params_)\n",
    "print(\"Best score: \", grid_search.best_score_)"
   ],
   "metadata": {
    "collapsed": false,
    "ExecuteTime": {
     "end_time": "2024-01-15T03:25:07.315386Z",
     "start_time": "2024-01-15T03:25:03.606114Z"
    }
   },
   "id": "c8a414b17e8ddb89",
   "execution_count": 15
  },
  {
   "cell_type": "code",
   "outputs": [
    {
     "name": "stdout",
     "output_type": "stream",
     "text": [
      "\n",
      "        Up correct: 63.45%;\n",
      "        Down correct: 59.27%;\n",
      "        Accuracy: 60.36%;\n",
      "        \n",
      "\n",
      "        Up correct: 55.17%;\n",
      "        Down correct: 50.41%;\n",
      "        Accuracy: 51.33%;\n",
      "        \n"
     ]
    },
    {
     "data": {
      "text/plain": "<Figure size 576x576 with 1 Axes>",
      "image/png": "[encoded data removed]"
     },
     "metadata": {
      "needs_background": "light"
     },
     "output_type": "display_data"
    },
    {
     "data": {
      "text/plain": "(55.172413793103445, 50.413223140495866, 51.33333333333333)"
     },
     "execution_count": 11,
     "metadata": {},
     "output_type": "execute_result"
    }
   ],
   "source": [
    "# XGBoost\n",
    "model = xgb.XGBClassifier(\n",
    "    colsample_bytree=0.6, eta=0.1, gamma=10, max_depth=3, min_child_weight=10, subsample=0.5\n",
    ")\n",
    "model.fit(X_train, y_train)\n",
    "\n",
    "y_train_pred = model.predict(X_train)\n",
    "y_test_pred = model.predict(X_test)\n",
    "\n",
    "train_analyzer = StockDirectionAnalyzer(y_train, y_train_pred, price_train)\n",
    "train_analyzer.analyze(plot=False)\n",
    "test_analyzer = StockDirectionAnalyzer(y_test, y_test_pred, price_test)\n",
    "test_analyzer.analyze()"
   ],
   "metadata": {
    "collapsed": false,
    "ExecuteTime": {
     "end_time": "2024-01-15T03:50:38.384291Z",
     "start_time": "2024-01-15T03:50:38.277258Z"
    }
   },
   "id": "694080fe688676b6",
   "execution_count": 11
  },
  {
   "cell_type": "code",
   "outputs": [
    {
     "name": "stdout",
     "output_type": "stream",
     "text": [
      "Fitting 4 folds for each of 729 candidates, totalling 2916 fits\n",
      "Best parameters:  {'colsample_bytree': 0.6, 'eta': 0.1, 'gamma': 10, 'max_depth': 3, 'min_child_weight': 10, 'subsample': 0.5}\n",
      "Best score:  0.5657387133771243\n"
     ]
    }
   ],
   "source": [
    "# Grid CV\n",
    "param_grid = {\n",
    "    'colsample_bytree': [0.6, 0.8, 1],\n",
    "    'subsample': [0.2, 0.3, 0.5],\n",
    "    'max_depth': [3, 4, 6],\n",
    "    'gamma': [1, 5, 10],\n",
    "    'min_child_weight': [1, 5, 10],\n",
    "    'eta': [0.1, 0.2, 0.3],\n",
    "}\n",
    "\n",
    "rf = xgb.XGBClassifier()\n",
    "grid_search = GridSearchCV(\n",
    "    estimator=rf, param_grid=param_grid, n_jobs=-1, verbose=1, cv=4\n",
    ")\n",
    "grid_search.fit(X_train, y_train)\n",
    "\n",
    "print(\"Best parameters: \", grid_search.best_params_)\n",
    "print(\"Best score: \", grid_search.best_score_)"
   ],
   "metadata": {
    "collapsed": false,
    "ExecuteTime": {
     "end_time": "2024-01-15T03:50:06.717461Z",
     "start_time": "2024-01-15T03:49:55.016504Z"
    }
   },
   "id": "e95ed0a33630b305",
   "execution_count": 10
  }
 ],
 "metadata": {
  "kernelspec": {
   "display_name": "Python 3",
   "language": "python",
   "name": "python3"
  },
  "language_info": {
   "codemirror_mode": {
    "name": "ipython",
    "version": 2
   },
   "file_extension": ".py",
   "mimetype": "text/x-python",
   "name": "python",
   "nbconvert_exporter": "python",
   "pygments_lexer": "ipython2",
   "version": "2.7.6"
  }
 },
 "nbformat": 4,
 "nbformat_minor": 5
}
